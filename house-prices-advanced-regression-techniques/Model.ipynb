{
 "cells": [
  {
   "cell_type": "code",
   "execution_count": 1,
   "metadata": {},
   "outputs": [],
   "source": [
    "import numpy as np \n",
    "import pandas as pd\n",
    "%matplotlib inline\n",
    "import matplotlib.pyplot as plt\n",
    "import seaborn as sns\n",
    "from scipy import stats\n",
    "from scipy.stats import norm, skew"
   ]
  },
  {
   "cell_type": "markdown",
   "metadata": {},
   "source": [
    "---\n",
    "## Data Input"
   ]
  },
  {
   "cell_type": "code",
   "execution_count": 2,
   "metadata": {},
   "outputs": [],
   "source": [
    "## Reading data\n",
    "train = pd.read_csv('./data/train.csv')\n",
    "test = pd.read_csv('./data/test.csv')\n",
    "\n",
    "#Save the 'Id' column\n",
    "train_ID = train['Id']\n",
    "test_ID = test['Id']\n",
    "\n",
    "#Now drop the  'Id' colum since it's unnecessary for  the prediction process.\n",
    "train.drop(\"Id\", axis = 1, inplace = True)\n",
    "test.drop(\"Id\", axis = 1, inplace = True)"
   ]
  },
  {
   "cell_type": "markdown",
   "metadata": {},
   "source": [
    "---\n",
    "## Data Preprocessing and Feature Engineering"
   ]
  },
  {
   "cell_type": "code",
   "execution_count": 3,
   "metadata": {},
   "outputs": [],
   "source": [
    "## Log Transformation to the target variable\n",
    "train[\"SalePrice\"] = np.log1p(train[\"SalePrice\"])"
   ]
  },
  {
   "cell_type": "code",
   "execution_count": 4,
   "metadata": {},
   "outputs": [],
   "source": [
    "## Extra Abnormal List\n",
    "abnormal_list = []\n",
    "abnormal_list.extend(list(train[train['GrLivArea'] > 4500].index))\n",
    "#abnormal_list.extend(list(train[train['LotFrontage'] > 300].index))\n",
    "#abnormal_list.extend(list(train[(train['LotFrontage'] > 150) & (train['SalePrice'] < 11)].index))\n",
    "#abnormal_list.extend(list(train[(train['GarageArea'] > 1200) & (train['SalePrice'] < 12.5)].index))\n",
    "#abnormal_list.extend(list(train[(train['OpenPorchSF'] > 500) & (train['SalePrice'] < 11)].index))\n",
    "#abnormal_list.extend(list(train[train['MasVnrArea'] > 1500].index))\n",
    "#abnormal_list.extend(list(train[(train['PoolArea'] > 500) & (train['SalePrice'] > 13)].index))\n",
    "\n",
    "abnormal_list = list(set(abnormal_list))\n",
    "train = train.drop(abnormal_list)"
   ]
  },
  {
   "cell_type": "code",
   "execution_count": 5,
   "metadata": {},
   "outputs": [
    {
     "name": "stdout",
     "output_type": "stream",
     "text": [
      "all_data size is : (2917, 79)\n"
     ]
    }
   ],
   "source": [
    "ntrain = train.shape[0]\n",
    "ntest = test.shape[0]\n",
    "y_train = train.SalePrice.values\n",
    "all_data = pd.concat((train, test)).reset_index(drop=True)\n",
    "all_data.drop(['SalePrice'], axis=1, inplace=True)\n",
    "print(\"all_data size is : {}\".format(all_data.shape))"
   ]
  },
  {
   "cell_type": "code",
   "execution_count": 6,
   "metadata": {},
   "outputs": [],
   "source": [
    "## Replace Nan Value to the features\n",
    "# None\n",
    "fillna_col_list = ['PoolQC', 'MiscFeature', 'Alley', 'Fence', 'FireplaceQu', \n",
    "                   'GarageType', 'GarageFinish', 'GarageQual', \n",
    "                   'GarageCond', 'BsmtQual', 'BsmtCond', 'BsmtExposure', \n",
    "                   'BsmtFinType1', 'BsmtFinType2', 'MasVnrType', 'MSSubClass']\n",
    "for col in fillna_col_list:\n",
    "    all_data[col] = all_data[col].fillna('None')\n",
    "    \n",
    "#Group by neighborhood and fill in missing value by the median LotFrontage of all the neighborhood\n",
    "all_data[\"LotFrontage\"] = all_data.groupby(\"Neighborhood\")[\"LotFrontage\"].transform(\n",
    "    lambda x: x.fillna(x.median()))\n",
    "\n",
    "# 0 \n",
    "fillna_col_list = ['GarageYrBlt', 'GarageArea', 'GarageCars', 'BsmtFinSF1', \n",
    "                   'BsmtFinSF2', 'BsmtUnfSF','TotalBsmtSF', 'BsmtFullBath', \n",
    "                   'BsmtHalfBath', 'MasVnrArea']\n",
    "for col in fillna_col_list:\n",
    "    all_data[col] = all_data[col].fillna(0)\n",
    "    \n",
    "# Mode\n",
    "fillna_col_list = ['Electrical', 'Exterior1st', 'Exterior2nd', \n",
    "                   'KitchenQual', 'MSZoning', 'SaleType']\n",
    "for col in fillna_col_list:\n",
    "    all_data[col] = all_data[col].fillna(all_data[col].mode()[0])\n",
    "\n",
    "## Special Handling based on the requirement\n",
    "all_data[\"Functional\"] = all_data[\"Functional\"].fillna(\"Typ\")\n",
    "\n",
    "## Dropping the useless column\n",
    "all_data = all_data.drop(['Utilities'], axis=1)\n",
    "\n",
    "## Creating New Features\n",
    "all_data['TotalSF'] = all_data['TotalBsmtSF'] + all_data['1stFlrSF'] + all_data['2ndFlrSF']"
   ]
  },
  {
   "cell_type": "code",
   "execution_count": 7,
   "metadata": {},
   "outputs": [],
   "source": [
    "## Changing Numeric Features into Categorical Features\n",
    "all_data['MSSubClass'] = all_data['MSSubClass'].apply(str)\n",
    "all_data['OverallCond'] = all_data['OverallCond'].astype(str)\n",
    "all_data['YrSold'] = all_data['YrSold'].astype(str)\n",
    "all_data['MoSold'] = all_data['MoSold'].astype(str)"
   ]
  },
  {
   "cell_type": "code",
   "execution_count": 8,
   "metadata": {},
   "outputs": [],
   "source": [
    "from sklearn import preprocessing\n",
    "\n",
    "## Type1 of quality (Ex, Gd, TA, Fa, Po, None)\n",
    "quality_col1 = ['ExterQual', 'HeatingQC', 'KitchenQual', 'FireplaceQu',\n",
    "                'GarageQual', 'PoolQC', 'BsmtCond', 'BsmtQual', 'ExterCond',\n",
    "                'GarageCond']\n",
    "quality_dict1 = {'None': 0, 'Po': 1, 'Fa': 2, 'TA': 3, 'Gd': 4, 'Ex': 5}\n",
    "for col in quality_col1:\n",
    "    all_data[col] = all_data[col].apply(lambda x: quality_dict1[x])\n",
    "\n",
    "## Type2 of quality (GLQ, ALQ, ...)\n",
    "quality_col2 = ['BsmtFinType1', 'BsmtFinType2']\n",
    "quality_dict2 = {'None': 0, 'Unf': 1, 'LwQ': 2, 'Rec': 3, 'BLQ': 4, 'ALQ': 5, 'GLQ': 6} \n",
    "for col in quality_col2:\n",
    "    all_data[col] = all_data[col].apply(lambda x: quality_dict2[x])\n",
    "\n",
    "## Type 3 of quality (GdPrv, MnPrv, ...)\n",
    "quality_col3 = ['Fence']\n",
    "quality_dict3 = {'None': 0, 'MnWw': 1, 'GdWo': 2, 'MnPrv': 3, 'GdPrv': 4} \n",
    "for col in quality_col3:\n",
    "    all_data[col] = all_data[col].apply(lambda x: quality_dict3[x])\n",
    "\n",
    "## Type 4 of quality (Gd, Av, Mn, No, None)\n",
    "quality_col4 = ['BsmtExposure']\n",
    "quality_dict4 = {'None': 0, 'No': 1, 'Mn': 2, 'Av': 3, 'Gd': 4} \n",
    "for col in quality_col4:\n",
    "    all_data[col] = all_data[col].apply(lambda x: quality_dict4[x])\n",
    "\n",
    "## Type 5 of quality (Fin, Rfn, Unf, None)\n",
    "quality_col5 = ['GarageFinish']\n",
    "quality_dict5 = {'None': 0, 'Unf': 1, 'RFn': 2, 'Fin': 3} \n",
    "for col in quality_col5:\n",
    "    all_data[col] = all_data[col].apply(lambda x: quality_dict5[x])\n",
    "\n",
    "## Type 6 of quality based on Observation()\n",
    "quality_col6 = ['MSZoning']\n",
    "quality_dict6 = {'C (all)': 1, 'RH': 2, 'RM': 3, 'RL': 4, 'FV': 5} \n",
    "for col in quality_col6:\n",
    "    all_data[col] = all_data[col].apply(lambda x: quality_dict6[x])\n",
    "\n",
    "## Type 7 of quality (Pave, Grvl, None)\n",
    "quality_col7 = ['Alley']\n",
    "quality_dict7 = {'None': 0, 'Grvl': 1, 'Pave': 2} \n",
    "for col in quality_col7:\n",
    "    all_data[col] = all_data[col].apply(lambda x: quality_dict7[x])\n",
    "\n",
    "## Type 8 of quality (SBrkr, FuseA, ...)\n",
    "quality_col8 = ['Electrical']\n",
    "quality_dict8 = {'Mix': 1, 'FuseP': 2, 'FuseF': 3, 'FuseA': 4, 'SBrkr': 5} \n",
    "for col in quality_col8:\n",
    "    all_data[col] = all_data[col].apply(lambda x: quality_dict8[x])\n",
    "\n",
    "## Type 9 of quality (Typ, Min1, Min2, ...)\n",
    "quality_col9 = ['Functional']\n",
    "quality_dict9 = {'Sev': 0, 'Maj2': 1, 'Maj1': 2, 'Mod': 3, 'Min2': 4, 'Min1': 5, 'Typ': 6} \n",
    "for col in quality_col9:\n",
    "    all_data[col] = all_data[col].apply(lambda x: quality_dict9[x])\n",
    "\n",
    "## Type 10 of quality \n",
    "quality_col10 = ['MiscFeature']\n",
    "quality_dict10 = {'None':0, 'Othr': 1, 'Shed': 2, 'Gar2': 3, 'TenC': 4} \n",
    "for col in quality_col10:\n",
    "    all_data[col] = all_data[col].apply(lambda x: quality_dict10[x])\n",
    "\n",
    "## Final Type of quality can be encoded by LabelEncoder\n",
    "le_col = ['PavedDrive', 'CentralAir', 'YrSold', 'MoSold', 'OverallCond']\n",
    "for col in le_col:\n",
    "    all_data[col] = preprocessing.LabelEncoder().fit_transform(all_data[col])"
   ]
  },
  {
   "cell_type": "code",
   "execution_count": 9,
   "metadata": {},
   "outputs": [],
   "source": [
    "## Last Modify problematic rows\n",
    "all_data.loc[2590, 'GarageYrBlt'] = 2007"
   ]
  },
  {
   "cell_type": "code",
   "execution_count": 10,
   "metadata": {},
   "outputs": [],
   "source": [
    "#cols = ('LandSlope', 'LotShape', 'Street', 'MSSubClass')"
   ]
  },
  {
   "cell_type": "code",
   "execution_count": 11,
   "metadata": {},
   "outputs": [],
   "source": [
    "# Check the skew of all numerical features\n",
    "numeric_feats = all_data.dtypes[all_data.dtypes != \"object\"].index\n",
    "skewed_feats = all_data[numeric_feats].apply(lambda x: skew(x.dropna())).sort_values(ascending=False)\n",
    "skewness = pd.DataFrame({'Skew' :skewed_feats})\n",
    "skewness = skewness[abs(skewness) > 0.75]\n",
    "\n",
    "from scipy.special import boxcox1p\n",
    "skewed_features = skewness.index\n",
    "lam = 0.15\n",
    "for feat in skewed_features:\n",
    "    all_data[feat] = boxcox1p(all_data[feat], lam)"
   ]
  },
  {
   "cell_type": "code",
   "execution_count": 12,
   "metadata": {},
   "outputs": [
    {
     "name": "stdout",
     "output_type": "stream",
     "text": [
      "(2917, 229)\n"
     ]
    }
   ],
   "source": [
    "## Transforming the rest of the categorical features into numeric one-hot-encoding format \n",
    "all_data = pd.get_dummies(all_data)\n",
    "print(all_data.shape)"
   ]
  },
  {
   "cell_type": "code",
   "execution_count": 13,
   "metadata": {},
   "outputs": [],
   "source": [
    "train = all_data[:ntrain]\n",
    "test = all_data[ntrain:]"
   ]
  },
  {
   "cell_type": "markdown",
   "metadata": {},
   "source": [
    "---\n",
    "## Modelling"
   ]
  },
  {
   "cell_type": "code",
   "execution_count": 14,
   "metadata": {},
   "outputs": [],
   "source": [
    "from sklearn.linear_model import ElasticNet, Lasso,  BayesianRidge, LassoLarsIC\n",
    "from sklearn.ensemble import RandomForestRegressor,  GradientBoostingRegressor\n",
    "from sklearn.kernel_ridge import KernelRidge\n",
    "from sklearn.pipeline import make_pipeline\n",
    "from sklearn.preprocessing import RobustScaler\n",
    "from sklearn.base import BaseEstimator, TransformerMixin, RegressorMixin, clone\n",
    "from sklearn.model_selection import KFold, cross_val_score, train_test_split\n",
    "from sklearn.metrics import mean_squared_error\n",
    "import xgboost as xgb\n",
    "import lightgbm as lgb"
   ]
  },
  {
   "cell_type": "code",
   "execution_count": 15,
   "metadata": {},
   "outputs": [],
   "source": [
    "#Validation function\n",
    "n_folds = 5\n",
    "\n",
    "def rmsle_cv(model):\n",
    "    kf = KFold(n_folds, shuffle=True, random_state=42).get_n_splits(train.values)\n",
    "    rmse= np.sqrt(-cross_val_score(model, train.values, y_train, scoring=\"neg_mean_squared_error\", cv = kf))\n",
    "    return(rmse)"
   ]
  },
  {
   "cell_type": "code",
   "execution_count": 16,
   "metadata": {},
   "outputs": [],
   "source": [
    "## Model Initialization\n",
    "lasso = make_pipeline(RobustScaler(), Lasso(alpha =0.0005, random_state=1))\n",
    "ENet = make_pipeline(RobustScaler(), ElasticNet(alpha=0.0005, l1_ratio=.9, random_state=3))\n",
    "KRR = KernelRidge(alpha=0.6, kernel='polynomial', degree=2, coef0=2.5)\n",
    "GBoost = GradientBoostingRegressor(n_estimators=3000, learning_rate=0.05,\n",
    "                                   max_depth=4, max_features='sqrt',\n",
    "                                   min_samples_leaf=15, min_samples_split=10, \n",
    "                                   loss='huber', random_state =5)\n",
    "model_lgb = lgb.LGBMRegressor(objective='regression',num_leaves=5,\n",
    "                              learning_rate=0.05, n_estimators=720,\n",
    "                              max_bin = 55, bagging_fraction = 0.8,\n",
    "                              bagging_freq = 5, feature_fraction = 0.2319,\n",
    "                              feature_fraction_seed=9, bagging_seed=9,\n",
    "                              min_data_in_leaf =6, min_sum_hessian_in_leaf = 11)"
   ]
  },
  {
   "cell_type": "code",
   "execution_count": 17,
   "metadata": {},
   "outputs": [
    {
     "name": "stdout",
     "output_type": "stream",
     "text": [
      "Model Result:\n",
      "Lasso score: 0.1144 (0.0053)\n",
      "ElasticNet score: 0.1144 (0.0054)\n",
      "Kernel Ridge score: 0.1165 (0.0049)\n",
      "Gradient Boosting score: 0.1156 (0.0062)\n",
      "LGBM score: 0.1151 (0.0058)\n"
     ]
    }
   ],
   "source": [
    "print(\"Model Result:\")\n",
    "score = rmsle_cv(lasso)\n",
    "print(\"Lasso score: {:.4f} ({:.4f})\".format(score.mean(), score.std()))\n",
    "score = rmsle_cv(ENet)\n",
    "print(\"ElasticNet score: {:.4f} ({:.4f})\".format(score.mean(), score.std()))\n",
    "score = rmsle_cv(KRR)\n",
    "print(\"Kernel Ridge score: {:.4f} ({:.4f})\".format(score.mean(), score.std()))\n",
    "score = rmsle_cv(GBoost)\n",
    "print(\"Gradient Boosting score: {:.4f} ({:.4f})\".format(score.mean(), score.std()))\n",
    "score = rmsle_cv(model_lgb)\n",
    "print(\"LGBM score: {:.4f} ({:.4f})\" .format(score.mean(), score.std()))"
   ]
  },
  {
   "cell_type": "code",
   "execution_count": 18,
   "metadata": {},
   "outputs": [],
   "source": [
    "class StackingAveragedModels(BaseEstimator, RegressorMixin, TransformerMixin):\n",
    "    def __init__(self, base_models, meta_model, n_folds=5):\n",
    "        self.base_models = base_models\n",
    "        self.meta_model = meta_model\n",
    "        self.n_folds = n_folds\n",
    "   \n",
    "    # We again fit the data on clones of the original models\n",
    "    def fit(self, X, y):\n",
    "        self.base_models_ = [list() for x in self.base_models]\n",
    "        self.meta_model_ = clone(self.meta_model)\n",
    "        kfold = KFold(n_splits=self.n_folds, shuffle=True, random_state=156)\n",
    "        \n",
    "        # Train cloned base models then create out-of-fold predictions\n",
    "        # that are needed to train the cloned meta-model\n",
    "        out_of_fold_predictions = np.zeros((X.shape[0], len(self.base_models)))\n",
    "        for i, model in enumerate(self.base_models):\n",
    "            for train_index, holdout_index in kfold.split(X, y):\n",
    "                instance = clone(model)\n",
    "                self.base_models_[i].append(instance)\n",
    "                instance.fit(X[train_index], y[train_index])\n",
    "                y_pred = instance.predict(X[holdout_index])\n",
    "                out_of_fold_predictions[holdout_index, i] = y_pred\n",
    "                \n",
    "        # Now train the cloned  meta-model using the out-of-fold predictions as new feature\n",
    "        self.meta_model_.fit(out_of_fold_predictions, y)\n",
    "        return self\n",
    "   \n",
    "    #Do the predictions of all base models on the test data and use the averaged predictions as \n",
    "    #meta-features for the final prediction which is done by the meta-model\n",
    "    def predict(self, X):\n",
    "        meta_features = np.column_stack([\n",
    "            np.column_stack([model.predict(X) for model in base_models]).mean(axis=1)\n",
    "            for base_models in self.base_models_ ])\n",
    "        return self.meta_model_.predict(meta_features)"
   ]
  },
  {
   "cell_type": "code",
   "execution_count": 19,
   "metadata": {},
   "outputs": [
    {
     "name": "stdout",
     "output_type": "stream",
     "text": [
      "Stacking Averaged models score: 0.1087 (0.0054)\n"
     ]
    }
   ],
   "source": [
    "stacked_averaged_models = StackingAveragedModels(base_models = (ENet, GBoost, KRR),\n",
    "                                                 meta_model = lasso)\n",
    "\n",
    "score = rmsle_cv(stacked_averaged_models)\n",
    "print(\"Stacking Averaged models score: {:.4f} ({:.4f})\".format(score.mean(), score.std()))"
   ]
  },
  {
   "cell_type": "code",
   "execution_count": 20,
   "metadata": {},
   "outputs": [],
   "source": [
    "def rmsle(y, y_pred):\n",
    "    return np.sqrt(mean_squared_error(y, y_pred))"
   ]
  },
  {
   "cell_type": "code",
   "execution_count": 21,
   "metadata": {},
   "outputs": [
    {
     "name": "stdout",
     "output_type": "stream",
     "text": [
      "0.07556924359712457\n"
     ]
    }
   ],
   "source": [
    "stacked_averaged_models.fit(train.values, y_train)\n",
    "stacked_train_pred = stacked_averaged_models.predict(train.values)\n",
    "stacked_pred = np.expm1(stacked_averaged_models.predict(test.values))\n",
    "print(rmsle(y_train, stacked_train_pred))"
   ]
  },
  {
   "cell_type": "code",
   "execution_count": 22,
   "metadata": {},
   "outputs": [
    {
     "name": "stdout",
     "output_type": "stream",
     "text": [
      "0.07179558782160174\n"
     ]
    }
   ],
   "source": [
    "model_lgb.fit(train, y_train)\n",
    "lgb_train_pred = model_lgb.predict(train)\n",
    "lgb_pred = np.expm1(model_lgb.predict(test.values))\n",
    "print(rmsle(y_train, lgb_train_pred))"
   ]
  },
  {
   "cell_type": "code",
   "execution_count": 23,
   "metadata": {},
   "outputs": [
    {
     "name": "stdout",
     "output_type": "stream",
     "text": [
      "RMSLE score on train data:\n",
      "0.07443163990612538\n"
     ]
    }
   ],
   "source": [
    "'''RMSE on the entire Train data when averaging'''\n",
    "\n",
    "print('RMSLE score on train data:')\n",
    "print(rmsle(y_train,stacked_train_pred*0.9 + lgb_train_pred*0.1 ))"
   ]
  },
  {
   "cell_type": "code",
   "execution_count": 24,
   "metadata": {},
   "outputs": [],
   "source": [
    "ensemble = stacked_pred*0.9 + lgb_pred*0.1\n",
    "#ensemble = stacked_pred*0.95 + lgb_pred*0.05"
   ]
  },
  {
   "cell_type": "code",
   "execution_count": 25,
   "metadata": {},
   "outputs": [],
   "source": [
    "sub = pd.DataFrame()\n",
    "sub['Id'] = test_ID\n",
    "sub['SalePrice'] = ensemble\n",
    "sub.to_csv('submission.csv',index=False)"
   ]
  },
  {
   "cell_type": "code",
   "execution_count": null,
   "metadata": {},
   "outputs": [],
   "source": []
  }
 ],
 "metadata": {
  "kernelspec": {
   "display_name": "Python 3",
   "language": "python",
   "name": "python3"
  },
  "language_info": {
   "codemirror_mode": {
    "name": "ipython",
    "version": 3
   },
   "file_extension": ".py",
   "mimetype": "text/x-python",
   "name": "python",
   "nbconvert_exporter": "python",
   "pygments_lexer": "ipython3",
   "version": "3.6.4"
  }
 },
 "nbformat": 4,
 "nbformat_minor": 2
}
